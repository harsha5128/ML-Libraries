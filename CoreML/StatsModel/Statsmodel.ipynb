{
 "cells": [
  {
   "cell_type": "markdown",
   "metadata": {},
   "source": [
    "Overview of statsmodels\n",
    "\n",
    "statsmodels provides comprehensive statistical tests, data exploration tools, and model fitting techniques. It is widely used in econometrics, time series analysis, and hypothesis testing."
   ]
  },
  {
   "cell_type": "markdown",
   "metadata": {},
   "source": [
    "Key features:\n",
    "\n",
    "Linear regression (OLS, WLS, GLS)\n",
    "\n",
    "Generalized linear models (GLM)\n",
    "\n",
    "Time series analysis (AR, ARMA, ARIMA, SARIMAX)\n",
    "\n",
    "Statistical hypothesis testing\n",
    "\n",
    "Robust models and diagnostics"
   ]
  },
  {
   "cell_type": "markdown",
   "metadata": {},
   "source": [
    "3. Ordinary Least Squares (OLS) Regression\n",
    "\n",
    "The most common use of statsmodels is for performing Ordinary Least Squares (OLS) regression."
   ]
  },
  {
   "cell_type": "code",
   "execution_count": 1,
   "metadata": {},
   "outputs": [
    {
     "name": "stdout",
     "output_type": "stream",
     "text": [
      "                            OLS Regression Results                            \n",
      "==============================================================================\n",
      "Dep. Variable:                      y   R-squared:                       0.940\n",
      "Model:                            OLS   Adj. R-squared:                  0.940\n",
      "Method:                 Least Squares   F-statistic:                     1543.\n",
      "Date:                Sat, 22 Mar 2025   Prob (F-statistic):           8.82e-62\n",
      "Time:                        16:25:46   Log-Likelihood:                -200.46\n",
      "No. Observations:                 100   AIC:                             404.9\n",
      "Df Residuals:                      98   BIC:                             410.1\n",
      "Df Model:                           1                                         \n",
      "Covariance Type:            nonrobust                                         \n",
      "==============================================================================\n",
      "                 coef    std err          t      P>|t|      [0.025      0.975]\n",
      "------------------------------------------------------------------------------\n",
      "const          0.4302      0.341      1.263      0.210      -0.246       1.106\n",
      "Feature        2.4080      0.061     39.284      0.000       2.286       2.530\n",
      "==============================================================================\n",
      "Omnibus:                        0.900   Durbin-Watson:                   2.285\n",
      "Prob(Omnibus):                  0.638   Jarque-Bera (JB):                0.808\n",
      "Skew:                           0.217   Prob(JB):                        0.668\n",
      "Kurtosis:                       2.929   Cond. No.                         10.7\n",
      "==============================================================================\n",
      "\n",
      "Notes:\n",
      "[1] Standard Errors assume that the covariance matrix of the errors is correctly specified.\n"
     ]
    },
    {
     "name": "stderr",
     "output_type": "stream",
     "text": [
      "c:\\ProgramData\\Anaconda3\\lib\\site-packages\\statsmodels\\tsa\\tsatools.py:142: FutureWarning: In a future version of pandas all arguments of concat except for the argument 'objs' will be keyword-only\n",
      "  x = pd.concat(x[::order], 1)\n"
     ]
    }
   ],
   "source": [
    "import statsmodels.api as sm\n",
    "import numpy as np\n",
    "import pandas as pd\n",
    "\n",
    "# Generate some sample data\n",
    "np.random.seed(42)\n",
    "X = np.random.rand(100, 1) * 10  # Independent variable\n",
    "y = 2.5 * X.squeeze() + np.random.randn(100) * 2  # Dependent variable with noise\n",
    "\n",
    "# Convert X to DataFrame for better visualization\n",
    "X_df = pd.DataFrame(X, columns=['Feature'])\n",
    "\n",
    "# Add constant term (intercept) to the model\n",
    "X_df = sm.add_constant(X_df)  # Adds a column of ones\n",
    "\n",
    "# Fit the OLS model\n",
    "model = sm.OLS(y, X_df).fit()\n",
    "\n",
    "# Print the summary of the model\n",
    "print(model.summary())"
   ]
  },
  {
   "cell_type": "markdown",
   "metadata": {},
   "source": [
    "4. Interpreting OLS Summary Output\n",
    "\n",
    "The model.summary() provides a detailed statistical report:\n",
    "\n",
    "R-squared: Explains how much variance in y is explained by X.\n",
    "\n",
    "F-statistic: Tests if the regression model is a good fit.\n",
    "\n",
    "P-values: If p-value < 0.05, the predictor is statistically significant.\n",
    "\n",
    "Confidence Intervals: The range where the true coefficient likely lies."
   ]
  },
  {
   "cell_type": "markdown",
   "metadata": {},
   "source": [
    "5. Checking Residuals & Assumptions\n",
    "\n",
    "To validate our model, we should check residuals for assumptions like homoscedasticity and normality."
   ]
  },
  {
   "cell_type": "code",
   "execution_count": 2,
   "metadata": {},
   "outputs": [
    {
     "data": {
      "image/png": "[encoded data removed]",
      "text/plain": [
       "<Figure size 432x288 with 1 Axes>"
      ]
     },
     "metadata": {
      "needs_background": "light"
     },
     "output_type": "display_data"
    }
   ],
   "source": [
    "import matplotlib.pyplot as plt\n",
    "import seaborn as sns\n",
    "\n",
    "# Residuals\n",
    "residuals = model.resid\n",
    "\n",
    "# Plot residuals histogram\n",
    "sns.histplot(residuals, kde=True)\n",
    "plt.title(\"Residuals Distribution\")\n",
    "plt.show()"
   ]
  },
  {
   "cell_type": "markdown",
   "metadata": {},
   "source": [
    "6. Generalized Linear Models (GLM)\n",
    "\n",
    "If you need models beyond linear regression (like Poisson, Logit, Probit), statsmodels provides Generalized Linear Models (GLM).\n",
    "\n",
    "Example: Logistic Regression using GLM"
   ]
  },
  {
   "cell_type": "code",
   "execution_count": 4,
   "metadata": {},
   "outputs": [
    {
     "name": "stdout",
     "output_type": "stream",
     "text": [
      "                 Generalized Linear Model Regression Results                  \n",
      "==============================================================================\n",
      "Dep. Variable:                      y   No. Observations:                  100\n",
      "Model:                            GLM   Df Residuals:                       98\n",
      "Model Family:                Binomial   Df Model:                            1\n",
      "Link Function:                  logit   Scale:                          1.0000\n",
      "Method:                          IRLS   Log-Likelihood:                -7.5049\n",
      "Date:                Sat, 22 Mar 2025   Deviance:                       15.010\n",
      "Time:                        16:48:24   Pearson chi2:                     25.2\n",
      "No. Iterations:                    10                                         \n",
      "Covariance Type:            nonrobust                                         \n",
      "==============================================================================\n",
      "                 coef    std err          z      P>|z|      [0.025      0.975]\n",
      "------------------------------------------------------------------------------\n",
      "const        -22.5289      8.884     -2.536      0.011     -39.940      -5.118\n",
      "Feature        4.2575      1.671      2.548      0.011       0.982       7.533\n",
      "==============================================================================\n"
     ]
    }
   ],
   "source": [
    "from statsmodels.api import GLM\n",
    "import statsmodels.api as sm\n",
    "\n",
    "# Generate binary classification data\n",
    "np.random.seed(42)\n",
    "X = np.random.rand(100, 1) * 10\n",
    "y = (X.squeeze() + np.random.normal(0, 0.5, size=100) > 5).astype(int)  # Label is 1 if X > 5, else 0\n",
    "\n",
    "# Convert X to DataFrame and add constant\n",
    "X_df = pd.DataFrame(X, columns=['Feature'])\n",
    "X_df = sm.add_constant(X_df)\n",
    "\n",
    "# Fit a logistic regression model\n",
    "logit_model = GLM(y, X_df, family=sm.families.Binomial()).fit()\n",
    "\n",
    "# Print summary\n",
    "print(logit_model.summary())"
   ]
  },
  {
   "cell_type": "markdown",
   "metadata": {},
   "source": [
    "7. Time Series Analysis\n",
    "\n",
    "statsmodels is widely used for time series modeling, such as:\n",
    "\n",
    "Autoregression (AR)\n",
    "\n",
    "Moving Average (MA)\n",
    "\n",
    "Autoregressive Integrated Moving Average (ARIMA)\n",
    "\n",
    "Seasonal ARIMA (SARIMAX)\n",
    "\n",
    "Example: ARIMA Model"
   ]
  },
  {
   "cell_type": "code",
   "execution_count": 6,
   "metadata": {},
   "outputs": [
    {
     "name": "stdout",
     "output_type": "stream",
     "text": [
      "                               SARIMAX Results                                \n",
      "==============================================================================\n",
      "Dep. Variable:                      y   No. Observations:                  100\n",
      "Model:                 ARIMA(2, 1, 2)   Log Likelihood                -127.244\n",
      "Date:                Sat, 22 Mar 2025   AIC                            264.488\n",
      "Time:                        17:01:34   BIC                            277.310\n",
      "Sample:                             0   HQIC                           269.671\n",
      "                                - 100                                         \n",
      "Covariance Type:                  opg                                         \n",
      "==============================================================================\n",
      "                 coef    std err          z      P>|z|      [0.025      0.975]\n",
      "------------------------------------------------------------------------------\n",
      "ar.L1         -0.0997      3.356     -0.030      0.976      -6.678       6.478\n",
      "ar.L2          0.0139      3.095      0.004      0.996      -6.052       6.080\n",
      "ma.L1          3.6917    122.745      0.030      0.976    -236.884     244.267\n",
      "ma.L2         -0.6868     12.154     -0.057      0.955     -24.508      23.135\n",
      "sigma2         0.0554      3.332      0.017      0.987      -6.475       6.586\n",
      "===================================================================================\n",
      "Ljung-Box (L1) (Q):                   0.04   Jarque-Bera (JB):                 0.47\n",
      "Prob(Q):                              0.85   Prob(JB):                         0.79\n",
      "Heteroskedasticity (H):               0.90   Skew:                            -0.15\n",
      "Prob(H) (two-sided):                  0.77   Kurtosis:                         2.84\n",
      "===================================================================================\n",
      "\n",
      "Warnings:\n",
      "[1] Covariance matrix calculated using the outer product of gradients (complex-step).\n"
     ]
    },
    {
     "data": {
      "image/png": "[encoded data removed]",
      "text/plain": [
       "<Figure size 720x360 with 1 Axes>"
      ]
     },
     "metadata": {
      "needs_background": "light"
     },
     "output_type": "display_data"
    }
   ],
   "source": [
    "import numpy as np\n",
    "import statsmodels.api as sm\n",
    "from statsmodels.tsa.arima.model import ARIMA\n",
    "import matplotlib.pyplot as plt\n",
    "\n",
    "# Generate sample time series data\n",
    "np.random.seed(42)\n",
    "time_series_data = np.cumsum(np.random.randn(100))  # Cumulative sum to simulate trends\n",
    "\n",
    "# Differencing to ensure stationarity\n",
    "time_series_data_diff = np.diff(time_series_data)  # First-order differencing\n",
    "\n",
    "# Fit an ARIMA model (AR=2, I=1, MA=2)\n",
    "arima_model = ARIMA(time_series_data, order=(2, 1, 2), \n",
    "                     enforce_stationarity=False, enforce_invertibility=False)\n",
    "\n",
    "arima_result = arima_model.fit()\n",
    "\n",
    "# Print model summary\n",
    "print(arima_result.summary())\n",
    "\n",
    "# Plot residuals to check assumptions\n",
    "plt.figure(figsize=(10, 5))\n",
    "plt.plot(arima_result.resid)\n",
    "plt.title(\"Residuals of ARIMA Model\")\n",
    "plt.show()\n"
   ]
  },
  {
   "cell_type": "markdown",
   "metadata": {},
   "source": [
    "Key Improvements:\n",
    "\n",
    "1.Applied first-order differencing (np.diff(time_series_data)) to help with stationarity.\n",
    "\n",
    "2.Set enforce_stationarity=False and enforce_invertibility=False to let the model choose suitable parameters.\n",
    "\n",
    "3.Plotted residuals to check for any model misfit."
   ]
  },
  {
   "cell_type": "markdown",
   "metadata": {},
   "source": [
    "8. Hypothesis Testing\n",
    "\n",
    "statsmodels also provides functions for hypothesis testing."
   ]
  },
  {
   "cell_type": "code",
   "execution_count": 7,
   "metadata": {},
   "outputs": [
    {
     "name": "stdout",
     "output_type": "stream",
     "text": [
      "T-statistic: -1.4817305574926876, P-value: 0.14382489063505027\n"
     ]
    }
   ],
   "source": [
    "#T-test\n",
    "from scipy import stats\n",
    "\n",
    "# Sample data\n",
    "group1 = np.random.randn(30) + 1\n",
    "group2 = np.random.randn(30) + 1.5\n",
    "\n",
    "# Perform t-test\n",
    "t_stat, p_value = stats.ttest_ind(group1, group2)\n",
    "print(f\"T-statistic: {t_stat}, P-value: {p_value}\")"
   ]
  },
  {
   "cell_type": "markdown",
   "metadata": {},
   "source": [
    "Summary\n",
    "\n",
    "1.OLS for linear regression\n",
    "\n",
    "2.GLM for logistic and Poisson regression\n",
    "\n",
    "3.Time series models like ARIMA\n",
    "\n",
    "4.Hypothesis testing (T-tests, ANOVA, etc.)\n",
    "\n",
    "5.Residual analysis for model validation"
   ]
  }
 ],
 "metadata": {
  "kernelspec": {
   "display_name": "base",
   "language": "python",
   "name": "python3"
  },
  "language_info": {
   "codemirror_mode": {
    "name": "ipython",
    "version": 3
   },
   "file_extension": ".py",
   "mimetype": "text/x-python",
   "name": "python",
   "nbconvert_exporter": "python",
   "pygments_lexer": "ipython3",
   "version": "3.9.7"
  }
 },
 "nbformat": 4,
 "nbformat_minor": 2
}
