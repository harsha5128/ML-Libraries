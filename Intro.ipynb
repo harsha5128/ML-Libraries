{
 "cells": [
  {
   "cell_type": "markdown",
   "metadata": {},
   "source": [
    "There are several libraries available for Machine Learning, each serving different purposes, from data preprocessing to deep learning and model deployment. Here are some key ML libraries categorized by functionality:"
   ]
  },
  {
   "cell_type": "markdown",
   "metadata": {},
   "source": [
    "1. Core Machine Learning Libraries"
   ]
  },
  {
   "cell_type": "markdown",
   "metadata": {},
   "source": [
    "Scikit-Learn – Traditional ML algorithms (Regression, Classification, Clustering, etc.)\n",
    "\n",
    "XGBoost – Gradient boosting algorithm for structured data\n",
    "\n",
    "LightGBM – Efficient gradient boosting optimized for speed\n",
    "\n",
    "CatBoost – Gradient boosting with built-in categorical feature handling\n",
    "\n",
    "Statsmodels – Statistical modeling and hypothesis testing"
   ]
  },
  {
   "cell_type": "markdown",
   "metadata": {},
   "source": [
    "2. Deep Learning Libraries\n",
    "\n",
    "TensorFlow – Open-source deep learning framework (supports distributed training)\n",
    "\n",
    "PyTorch – Flexible deep learning framework widely used in research\n",
    "\n",
    "Keras – High-level deep learning API (runs on TensorFlow backend)\n",
    "\n",
    "JAX – Optimized numerical computing for ML (Google)\n",
    "\n",
    "FastAI – High-level API built on PyTorch for rapid prototyping"
   ]
  },
  {
   "cell_type": "markdown",
   "metadata": {},
   "source": [
    "3. NLP Libraries\n",
    "\n",
    "Hugging Face Transformers – Pre-trained models (BERT, GPT, T5, etc.)\n",
    "\n",
    "spaCy – Industrial-strength NLP processing\n",
    "\n",
    "NLTK – Classical NLP processing (tokenization, parsing, etc.)\n",
    "\n",
    "Gensim – Topic modeling and Word2Vec embeddings"
   ]
  },
  {
   "cell_type": "markdown",
   "metadata": {},
   "source": [
    "4. Computer Vision Libraries\n",
    "\n",
    "OpenCV – Image processing and computer vision tasks\n",
    "\n",
    "Detectron2 – Object detection (from Facebook AI)\n",
    "\n",
    "MMDetection – Open-source object detection toolbox\n",
    "\n",
    "Albumentations – Image augmentation library for deep learning"
   ]
  },
  {
   "cell_type": "markdown",
   "metadata": {},
   "source": [
    "5. Reinforcement Learning\n",
    "\n",
    "Stable-Baselines3 – Pre-built RL algorithms (PPO, DQN, A2C)\n",
    "\n",
    "RLlib – Scalable RL from Ray\n",
    "\n",
    "Gym – OpenAI’s RL environment"
   ]
  },
  {
   "cell_type": "markdown",
   "metadata": {},
   "source": [
    "6. MLOps & Model Deployment\n",
    "\n",
    "MLflow – Experiment tracking, model management\n",
    "\n",
    "Kubeflow – Kubernetes-native ML workflows\n",
    "\n",
    "DVC – Version control for ML datasets and models\n",
    "\n",
    "ONNX – Open format for model interoperability\n",
    "\n",
    "TensorRT – Optimizing inference speed on NVIDIA GPUs"
   ]
  },
  {
   "cell_type": "markdown",
   "metadata": {},
   "source": [
    "7. Data Preprocessing & Feature Engineering\n",
    "\n",
    "Pandas – Data manipulation and preprocessing\n",
    "\n",
    "NumPy – Numerical computing\n",
    "\n",
    "SciPy – Scientific computing (statistics, optimizations)\n",
    "\n",
    "Feature-engine – Feature engineering tools"
   ]
  },
  {
   "cell_type": "markdown",
   "metadata": {},
   "source": [
    "8. AutoML Libraries\n",
    "\n",
    "Auto-sklearn – Automated ML for Scikit-learn\n",
    "\n",
    "TPOT – Genetic algorithm-based automated ML\n",
    "\n",
    "H2O.ai – AutoML for structured data\n",
    "\n",
    "Optuna/Hyperopt – Hyperparameter tuning"
   ]
  }
 ],
 "metadata": {
  "kernelspec": {
   "display_name": "base",
   "language": "python",
   "name": "python3"
  },
  "language_info": {
   "codemirror_mode": {
    "name": "ipython",
    "version": 3
   },
   "file_extension": ".py",
   "mimetype": "text/x-python",
   "name": "python",
   "nbconvert_exporter": "python",
   "pygments_lexer": "ipython3",
   "version": "3.9.7"
  }
 },
 "nbformat": 4,
 "nbformat_minor": 2
}
