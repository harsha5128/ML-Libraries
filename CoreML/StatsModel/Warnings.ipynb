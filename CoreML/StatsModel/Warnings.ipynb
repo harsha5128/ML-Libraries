{
 "cells": [
  {
   "cell_type": "markdown",
   "metadata": {},
   "source": [
    "c:\\ProgramData\\Anaconda3\\lib\\site-packages\\statsmodels\\tsa\\statespace\\sarimax.py:966: UserWarning: Non-stationary starting autoregressive parameters found. Using zeros as starting parameters.\n",
    "  warn('Non-stationary starting autoregressive parameters'\n",
    "c:\\ProgramData\\Anaconda3\\lib\\site-packages\\statsmodels\\tsa\\statespace\\sarimax.py:978: UserWarning: Non-invertible starting MA parameters found. Using zeros as starting parameters.\n",
    "  warn('Non-invertible starting MA parameters found.'"
   ]
  },
  {
   "cell_type": "markdown",
   "metadata": {},
   "source": [
    "These warnings indicate that the initial parameter estimates for your SARIMA or SARIMAX model might be problematic:"
   ]
  },
  {
   "cell_type": "markdown",
   "metadata": {},
   "source": [
    "⚠ Understanding the Warnings\n",
    "\n",
    "Non-stationary starting autoregressive parameters found.\n",
    "\n",
    "1.The AR (AutoRegressive) parameters in your SARIMA model are not stationary, meaning they do not satisfy the stationarity conditions required for a stable time series model.\n",
    "\n",
    "2.The model automatically sets these parameters to zero.\n",
    "\n",
    "Non-invertible starting MA parameters found.\n",
    "\n",
    "1.The MA (Moving Average) parameters are not invertible, meaning the moving average process does not satisfy the invertibility conditions.\n",
    "\n",
    "2.Again, the model sets these parameters to zero."
   ]
  },
  {
   "cell_type": "markdown",
   "metadata": {},
   "source": [
    "🛠 Possible Fixes\n",
    "\n",
    "1️⃣ Check for Stationarity Before Fitting the Model\n",
    "You can use Dickey-Fuller Test (adfuller) to check if the data is stationary:"
   ]
  },
  {
   "cell_type": "code",
   "execution_count": null,
   "metadata": {},
   "outputs": [],
   "source": [
    "from statsmodels.tsa.stattools import adfuller\n",
    "\n",
    "# Perform ADF test\n",
    "result = adfuller(your_time_series)\n",
    "print(f'ADF Statistic: {result[0]}')\n",
    "print(f'p-value: {result[1]}')\n",
    "\n",
    "# If p-value > 0.05, the series is non-stationary → Differencing may be needed\n"
   ]
  },
  {
   "cell_type": "markdown",
   "metadata": {},
   "source": [
    "If non-stationary, apply differencing (e.g., df.diff().dropna()) before fitting SARIMA."
   ]
  },
  {
   "cell_type": "markdown",
   "metadata": {},
   "source": [
    "2️⃣ Try a Different Order of AR and MA Terms\n",
    "\n",
    "If p (AR order) or q (MA order) is too high, the parameters may become unstable:"
   ]
  },
  {
   "cell_type": "code",
   "execution_count": null,
   "metadata": {},
   "outputs": [],
   "source": [
    "from statsmodels.tsa.statespace.sarimax import SARIMAX\n",
    "\n",
    "# Adjust (p, d, q) values and seasonal order (P, D, Q, S)\n",
    "model = SARIMAX(your_time_series, order=(1, 1, 1), seasonal_order=(1, 1, 1, 12))\n",
    "result = model.fit()\n",
    "print(result.summary())"
   ]
  },
  {
   "cell_type": "markdown",
   "metadata": {},
   "source": [
    "Reduce the values of p and q to prevent unstable coefficients."
   ]
  },
  {
   "cell_type": "markdown",
   "metadata": {},
   "source": [
    "3️⃣ Use enforce_stationarity=False, enforce_invertibility=False\n",
    "\n",
    "If the warning persists, try disabling these constraints in SARIMAX:"
   ]
  },
  {
   "cell_type": "code",
   "execution_count": null,
   "metadata": {},
   "outputs": [],
   "source": [
    "model = SARIMAX(your_time_series, order=(1, 1, 1), seasonal_order=(1, 1, 1, 12),\n",
    "                enforce_stationarity=False, enforce_invertibility=False)\n",
    "result = model.fit()"
   ]
  },
  {
   "cell_type": "markdown",
   "metadata": {},
   "source": [
    "This prevents the model from forcing stationarity/invertibility and lets it estimate parameters freely.\n",
    "\n"
   ]
  },
  {
   "cell_type": "markdown",
   "metadata": {},
   "source": [
    "🔥 Final Thoughts\n",
    "\n",
    "1.If your data is non-stationary, perform differencing before modeling.\n",
    "\n",
    "2.Reduce p and q if needed.\n",
    "\n",
    "3.Disable constraints if you want more flexibility in parameter estimation."
   ]
  },
  {
   "cell_type": "markdown",
   "metadata": {},
   "source": []
  }
 ],
 "metadata": {
  "kernelspec": {
   "display_name": "base",
   "language": "python",
   "name": "python3"
  },
  "language_info": {
   "codemirror_mode": {
    "name": "ipython",
    "version": 3
   },
   "file_extension": ".py",
   "mimetype": "text/x-python",
   "name": "python",
   "nbconvert_exporter": "python",
   "pygments_lexer": "ipython3",
   "version": "3.9.7"
  }
 },
 "nbformat": 4,
 "nbformat_minor": 2
}
