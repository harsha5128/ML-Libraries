{
 "cells": [
  {
   "cell_type": "markdown",
   "metadata": {},
   "source": [
    "What is XGBoost?\n",
    "\n",
    "XGBoost is an optimized gradient boosting algorithm designed for speed and performance. It is widely used in ML competitions (e.g., Kaggle) due to its efficiency and scalability."
   ]
  },
  {
   "cell_type": "markdown",
   "metadata": {},
   "source": [
    "\n",
    "Key Features of XGBoost\n",
    "\n",
    "Boosted Trees Algorithm: Uses gradient boosting to improve weak learners (decision trees).\n",
    "\n",
    "Regularization: Has L1 (Lasso) and L2 (Ridge) regularization to prevent overfitting.\n",
    "\n",
    "Parallel Processing: Supports multi-threading, making training very fast.\n",
    "\n",
    "Handling Missing Values: Automatically learns the best direction for missing values.\n",
    "\n",
    "Tree Pruning: Uses \"max_depth\" instead of pre-pruning, which makes training efficient.\n",
    "\n",
    "Supports Distributed Computing: Can run on Hadoop, Spark, and GPUs."
   ]
  },
  {
   "cell_type": "markdown",
   "metadata": {},
   "source": [
    "Core Concepts\n",
    "\n",
    "1. Boosting\n",
    "\n",
    "A sequential learning method where weak learners (shallow decision trees) are improved iteratively.\n",
    "\n",
    "Each new tree corrects the errors made by previous trees.\n",
    "\n",
    "2. Gradient Boosting\n",
    "\n",
    "Models the residual errors and minimizes them using gradient descent.\n",
    "\n",
    "In each step, new trees are added to predict the residuals.\n",
    "\n",
    "3. Objective Function\n",
    "\n",
    "Includes a loss function (e.g., log loss, squared error) and a regularization term.\n",
    "\n",
    "4. Regularization\n",
    "\n",
    "L1 and L2 penalties to prevent overfitting.\n",
    "\n",
    "Helps improve model generalization.\n",
    "\n"
   ]
  },
  {
   "cell_type": "markdown",
   "metadata": {},
   "source": [
    "XGBoost Key Functions\n",
    "\n",
    "Here’s a breakdown of essential functions in XGBoost:\n",
    "\n",
    "1. DMatrix\n",
    "\n",
    "A specialized data structure optimized for XGBoost.\n",
    "\n",
    "Efficient for memory usage and fast computation."
   ]
  },
  {
   "cell_type": "code",
   "execution_count": 5,
   "metadata": {},
   "outputs": [],
   "source": [
    "import xgboost as xgb\n",
    "import numpy as np\n",
    "import pandas as pd\n",
    "\n",
    "# Create sample data\n",
    "data = np.array([[1, 2, 3], [4, 5, 6], [7, 8, 9]])\n",
    "labels = np.array([0, 1, 0])\n",
    "\n",
    "# Convert to DMatrix\n",
    "dtrain = xgb.DMatrix(data, label=labels)"
   ]
  },
  {
   "cell_type": "markdown",
   "metadata": {},
   "source": [
    "2. Training an XGBoost Model"
   ]
  },
  {
   "cell_type": "code",
   "execution_count": 10,
   "metadata": {},
   "outputs": [],
   "source": [
    "# Define parameters\n",
    "params = {\n",
    "    \"objective\": \"binary:logistic\",  # Classification problem\n",
    "    \"eval_metric\": \"logloss\",  # Loss function\n",
    "    \"eta\": 0.1,  # Learning rate\n",
    "    \"max_depth\": 3,  # Tree depth\n",
    "}\n",
    "\n",
    "# Train model\n",
    "bst = xgb.train(params, dtrain, num_boost_round=50)"
   ]
  },
  {
   "cell_type": "markdown",
   "metadata": {},
   "source": [
    "3. Model Prediction"
   ]
  },
  {
   "cell_type": "code",
   "execution_count": 7,
   "metadata": {},
   "outputs": [
    {
     "name": "stdout",
     "output_type": "stream",
     "text": [
      "[0.33924362 0.33924362 0.33924362]\n"
     ]
    }
   ],
   "source": [
    "# Make predictions\n",
    "preds = bst.predict(dtrain)\n",
    "print(preds)"
   ]
  },
  {
   "cell_type": "markdown",
   "metadata": {},
   "source": [
    "4. Feature Importance\n",
    "\n",
    "XGBoost allows feature importance visualization."
   ]
  },
  {
   "cell_type": "code",
   "execution_count": 15,
   "metadata": {},
   "outputs": [
    {
     "data": {
      "image/png": "[encoded data removed]",
      "text/plain": [
       "<Figure size 432x288 with 1 Axes>"
      ]
     },
     "metadata": {
      "needs_background": "light"
     },
     "output_type": "display_data"
    }
   ],
   "source": [
    "import xgboost as xgb\n",
    "import numpy as np\n",
    "import matplotlib.pyplot as plt\n",
    "from sklearn.model_selection import train_test_split\n",
    "from xgboost import XGBClassifier\n",
    "\n",
    "# Sample dataset\n",
    "X, y = np.random.rand(100, 5), np.random.randint(0, 2, 100)\n",
    "\n",
    "# Split data\n",
    "X_train, X_test, y_train, y_test = train_test_split(X, y, test_size=0.2, random_state=42)\n",
    "\n",
    "# Train XGBClassifier\n",
    "model = XGBClassifier( eval_metric=\"logloss\")\n",
    "model.fit(X_train, y_train)\n",
    "\n",
    "# Extract booster\n",
    "booster = model.get_booster()\n",
    "\n",
    "# Plot feature importance\n",
    "xgb.plot_importance(booster)\n",
    "plt.show()\n"
   ]
  },
  {
   "cell_type": "markdown",
   "metadata": {},
   "source": [
    "5. Cross-Validation\n",
    "\n",
    "Use XGBoost’s built-in cross-validation:"
   ]
  },
  {
   "cell_type": "code",
   "execution_count": 16,
   "metadata": {},
   "outputs": [
    {
     "name": "stderr",
     "output_type": "stream",
     "text": [
      "c:\\ProgramData\\Anaconda3\\lib\\site-packages\\xgboost\\core.py:158: UserWarning: [16:04:02] WARNING: C:\\buildkite-agent\\builds\\buildkite-windows-cpu-autoscaling-group-i-08cbc0333d8d4aae1-1\\xgboost\\xgboost-ci-windows\\src\\common\\error_msg.cc:52: Empty dataset at worker: 0\n",
      "  warnings.warn(smsg, UserWarning)\n"
     ]
    },
    {
     "data": {
      "text/html": [
       "<div>\n",
       "<style scoped>\n",
       "    .dataframe tbody tr th:only-of-type {\n",
       "        vertical-align: middle;\n",
       "    }\n",
       "\n",
       "    .dataframe tbody tr th {\n",
       "        vertical-align: top;\n",
       "    }\n",
       "\n",
       "    .dataframe thead th {\n",
       "        text-align: right;\n",
       "    }\n",
       "</style>\n",
       "<table border=\"1\" class=\"dataframe\">\n",
       "  <thead>\n",
       "    <tr style=\"text-align: right;\">\n",
       "      <th></th>\n",
       "      <th>train-logloss-mean</th>\n",
       "      <th>train-logloss-std</th>\n",
       "      <th>test-logloss-mean</th>\n",
       "      <th>test-logloss-std</th>\n",
       "    </tr>\n",
       "  </thead>\n",
       "  <tbody>\n",
       "    <tr>\n",
       "      <th>0</th>\n",
       "      <td>0.557281</td>\n",
       "      <td>0.216658</td>\n",
       "      <td>0.702644</td>\n",
       "      <td>0.776683</td>\n",
       "    </tr>\n",
       "    <tr>\n",
       "      <th>1</th>\n",
       "      <td>0.557281</td>\n",
       "      <td>0.216658</td>\n",
       "      <td>0.702644</td>\n",
       "      <td>0.776683</td>\n",
       "    </tr>\n",
       "    <tr>\n",
       "      <th>2</th>\n",
       "      <td>0.557281</td>\n",
       "      <td>0.216658</td>\n",
       "      <td>0.702644</td>\n",
       "      <td>0.776683</td>\n",
       "    </tr>\n",
       "    <tr>\n",
       "      <th>3</th>\n",
       "      <td>0.557281</td>\n",
       "      <td>0.216658</td>\n",
       "      <td>0.702644</td>\n",
       "      <td>0.776683</td>\n",
       "    </tr>\n",
       "    <tr>\n",
       "      <th>4</th>\n",
       "      <td>0.557281</td>\n",
       "      <td>0.216658</td>\n",
       "      <td>0.702644</td>\n",
       "      <td>0.776683</td>\n",
       "    </tr>\n",
       "    <tr>\n",
       "      <th>5</th>\n",
       "      <td>0.557281</td>\n",
       "      <td>0.216658</td>\n",
       "      <td>0.702644</td>\n",
       "      <td>0.776683</td>\n",
       "    </tr>\n",
       "    <tr>\n",
       "      <th>6</th>\n",
       "      <td>0.557281</td>\n",
       "      <td>0.216658</td>\n",
       "      <td>0.702644</td>\n",
       "      <td>0.776683</td>\n",
       "    </tr>\n",
       "    <tr>\n",
       "      <th>7</th>\n",
       "      <td>0.557281</td>\n",
       "      <td>0.216658</td>\n",
       "      <td>0.702644</td>\n",
       "      <td>0.776683</td>\n",
       "    </tr>\n",
       "    <tr>\n",
       "      <th>8</th>\n",
       "      <td>0.557281</td>\n",
       "      <td>0.216658</td>\n",
       "      <td>0.702644</td>\n",
       "      <td>0.776683</td>\n",
       "    </tr>\n",
       "    <tr>\n",
       "      <th>9</th>\n",
       "      <td>0.557281</td>\n",
       "      <td>0.216658</td>\n",
       "      <td>0.702644</td>\n",
       "      <td>0.776683</td>\n",
       "    </tr>\n",
       "  </tbody>\n",
       "</table>\n",
       "</div>"
      ],
      "text/plain": [
       "   train-logloss-mean  train-logloss-std  test-logloss-mean  test-logloss-std\n",
       "0            0.557281           0.216658           0.702644          0.776683\n",
       "1            0.557281           0.216658           0.702644          0.776683\n",
       "2            0.557281           0.216658           0.702644          0.776683\n",
       "3            0.557281           0.216658           0.702644          0.776683\n",
       "4            0.557281           0.216658           0.702644          0.776683\n",
       "5            0.557281           0.216658           0.702644          0.776683\n",
       "6            0.557281           0.216658           0.702644          0.776683\n",
       "7            0.557281           0.216658           0.702644          0.776683\n",
       "8            0.557281           0.216658           0.702644          0.776683\n",
       "9            0.557281           0.216658           0.702644          0.776683"
      ]
     },
     "execution_count": 16,
     "metadata": {},
     "output_type": "execute_result"
    }
   ],
   "source": [
    "xgb.cv(params, dtrain, num_boost_round=10, nfold=5, metrics=\"logloss\", as_pandas=True)"
   ]
  },
  {
   "cell_type": "markdown",
   "metadata": {},
   "source": [
    "6. Sklearn API (Simpler Interface)\n",
    "\n",
    "XGBoost has a Scikit-learn compatible API:"
   ]
  },
  {
   "cell_type": "code",
   "execution_count": 18,
   "metadata": {},
   "outputs": [
    {
     "name": "stdout",
     "output_type": "stream",
     "text": [
      "Accuracy: 0.55\n"
     ]
    }
   ],
   "source": [
    "from xgboost import XGBClassifier\n",
    "from sklearn.model_selection import train_test_split\n",
    "from sklearn.metrics import accuracy_score\n",
    "\n",
    "# Create sample dataset\n",
    "X, y = np.random.rand(100, 5), np.random.randint(0, 2, 100)\n",
    "\n",
    "# Split data\n",
    "X_train, X_test, y_train, y_test = train_test_split(X, y, test_size=0.2, random_state=42)\n",
    "\n",
    "# Train model\n",
    "model = XGBClassifier(eval_metric=\"logloss\")\n",
    "model.fit(X_train, y_train)\n",
    "\n",
    "# Predict\n",
    "y_pred = model.predict(X_test)\n",
    "\n",
    "# Accuracy\n",
    "print(\"Accuracy:\", accuracy_score(y_test, y_pred))\n"
   ]
  },
  {
   "cell_type": "markdown",
   "metadata": {},
   "source": [
    "Hyperparameter Tuning in XGBoost\n",
    "\n",
    "Key Parameters:\n",
    "\n",
    "n_estimators: Number of boosting rounds.\n",
    "\n",
    "max_depth: Depth of each tree.\n",
    "\n",
    "learning_rate (eta): Controls step size in optimization.\n",
    "\n",
    "subsample: Fraction of data used per boosting round.\n",
    "\n",
    "colsample_bytree: Fraction of features used per tree.\n",
    "\n",
    "gamma: Minimum loss reduction required to make a split.\n",
    "\n",
    "lambda & alpha: L2 and L1 regularization."
   ]
  },
  {
   "cell_type": "markdown",
   "metadata": {},
   "source": [
    "Hyperparameter Tuning Example (Using GridSearchCV)"
   ]
  },
  {
   "cell_type": "code",
   "execution_count": 20,
   "metadata": {},
   "outputs": [
    {
     "name": "stdout",
     "output_type": "stream",
     "text": [
      "Best Parameters: {'learning_rate': 0.3, 'max_depth': 5, 'n_estimators': 200}\n",
      "Best Score: 0.525\n"
     ]
    }
   ],
   "source": [
    "from sklearn.model_selection import GridSearchCV\n",
    "\n",
    "param_grid = {\n",
    "    'max_depth': [3, 5, 7],\n",
    "    'learning_rate': [0.01, 0.1, 0.3],\n",
    "    'n_estimators': [50, 100, 200]\n",
    "}\n",
    "\n",
    "grid = GridSearchCV(XGBClassifier(), param_grid, scoring='accuracy', cv=5)\n",
    "grid.fit(X_train, y_train)\n",
    "\n",
    "print(\"Best Parameters:\", grid.best_params_)\n",
    "print(\"Best Score:\", grid.best_score_)"
   ]
  },
  {
   "cell_type": "markdown",
   "metadata": {},
   "source": [
    "When to Use XGBoost?\n",
    "\n",
    "✅ Large datasets with tabular data\n",
    "✅ Structured data problems\n",
    "✅ Binary & multi-class classification, regression\n",
    "✅ Winning Kaggle competitions\n",
    "✅ When overfitting is an issue"
   ]
  },
  {
   "cell_type": "markdown",
   "metadata": {},
   "source": [
    "When NOT to Use XGBoost?\n",
    "\n",
    "❌ When data is small (can overcomplicate things)\n",
    "❌ For image processing (use CNNs instead)\n",
    "❌ For NLP tasks (use Transformers/BERT)\n",
    "\n"
   ]
  },
  {
   "cell_type": "markdown",
   "metadata": {},
   "source": [
    "Comparison: XGBoost vs Random Forest\n",
    "\n",
    "Feature\t            XGBoost\t                                    Random Forest\n",
    "Training            Speed\tFaster (Parallelized, Pruning)\t       Slower\n",
    "Overfitting\t        Less prone due to regularization\t           Can overfit with deep trees\n",
    "Interpretability\tModerate\t                                   Easier to interpret\n",
    "Performance\t        Often better on structured data\t               Good, but may not beat XGBoost\n",
    "Memory Usage\t    Higher due to boosting\t                       Lower\n"
   ]
  },
  {
   "cell_type": "markdown",
   "metadata": {},
   "source": [
    "Summary\n",
    "\n",
    "XGBoost is a powerful gradient boosting library optimized for efficiency.\n",
    "\n",
    "It excels in structured data and large datasets.\n",
    "\n",
    "Has many tuning parameters to optimize model performance.\n",
    "\n",
    "Integrated with Scikit-learn and supports GPU acceleration."
   ]
  }
 ],
 "metadata": {
  "kernelspec": {
   "display_name": "base",
   "language": "python",
   "name": "python3"
  },
  "language_info": {
   "codemirror_mode": {
    "name": "ipython",
    "version": 3
   },
   "file_extension": ".py",
   "mimetype": "text/x-python",
   "name": "python",
   "nbconvert_exporter": "python",
   "pygments_lexer": "ipython3",
   "version": "3.9.7"
  }
 },
 "nbformat": 4,
 "nbformat_minor": 2
}
